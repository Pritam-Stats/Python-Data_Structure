{
  "nbformat": 4,
  "nbformat_minor": 0,
  "metadata": {
    "colab": {
      "provenance": []
    },
    "kernelspec": {
      "name": "python3",
      "display_name": "Python 3"
    },
    "language_info": {
      "name": "python"
    }
  },
  "cells": [
    {
      "cell_type": "markdown",
      "source": [
        "### **1. Discuss string slicing and provide examples.**\n",
        "* String is a data type in programming which help us to store text type of data and strings store the text as a sequence of characters.\n",
        "\n",
        " And, String slicing is a method or technique to access a certain part or certain section of the string, i.e., by string slicing we can create or use a substring according to our needs.\n",
        "    \n",
        " As string  is a sequence of characters, with each characters there is index attached, starts from 0. And by using the indices we can use string slicing.\n",
        "\n",
        "\n",
        "* String slicing help us\n",
        "    * To manipulate text data,\n",
        "    * To use only the part of what might needed\n",
        "    * As strings are immutable, it also helps us to work with different parts of the text data.\n",
        "\n",
        "\n",
        "\n",
        "*   Syntax - string1[start : end : step]\n",
        "    * start - the inclusive index to start the slicing (default is 0)\n",
        "    * end -  the exclusive index to end the slicing (default is the last index)\n",
        "    * step - in how many step we want the new string (default is 1)\n",
        "\n"
      ],
      "metadata": {
        "id": "VNEpfzN1bycu"
      }
    },
    {
      "cell_type": "code",
      "source": [
        "#EXAMPLE OF STRING SLICING\n",
        "Name = \"Pritam Saha\"\n",
        "\n",
        "len(Name) #To know the length of the string might help."
      ],
      "metadata": {
        "colab": {
          "base_uri": "https://localhost:8080/"
        },
        "id": "rvx1_Q6N3Ts-",
        "outputId": "8a1a99d2-4564-4567-e1ef-137142b815fa"
      },
      "execution_count": null,
      "outputs": [
        {
          "output_type": "execute_result",
          "data": {
            "text/plain": [
              "11"
            ]
          },
          "metadata": {},
          "execution_count": 1
        }
      ]
    },
    {
      "cell_type": "code",
      "source": [
        "#To access only the first name\n",
        "First_name = Name[0:6]      #it might have worked the same even if we didn't mention the start index.\n",
        "First_name          #will return Pritam"
      ],
      "metadata": {
        "colab": {
          "base_uri": "https://localhost:8080/",
          "height": 35
        },
        "id": "f51a4Qw-6CJG",
        "outputId": "ea105411-dc7b-45e7-d906-5be7dfe2fa6c"
      },
      "execution_count": null,
      "outputs": [
        {
          "output_type": "execute_result",
          "data": {
            "text/plain": [
              "'Pritam'"
            ],
            "application/vnd.google.colaboratory.intrinsic+json": {
              "type": "string"
            }
          },
          "metadata": {},
          "execution_count": 2
        }
      ]
    },
    {
      "cell_type": "code",
      "source": [
        "#To access the last name\n",
        "Last_name = Name[-4:]         #using the negative slicing. -4th index character is the 'S'. so starting from S to the end.\n",
        "Last_name # -4 is 4th character from the last. end index is not mentioned means python will  understand it as 11 by default.\n",
        "\n",
        "#will return saha"
      ],
      "metadata": {
        "colab": {
          "base_uri": "https://localhost:8080/",
          "height": 35
        },
        "id": "7VskHiVy6TAt",
        "outputId": "0aa78762-009e-426d-cfd0-7b13c1bf87e1"
      },
      "execution_count": null,
      "outputs": [
        {
          "output_type": "execute_result",
          "data": {
            "text/plain": [
              "'Saha'"
            ],
            "application/vnd.google.colaboratory.intrinsic+json": {
              "type": "string"
            }
          },
          "metadata": {},
          "execution_count": 18
        }
      ]
    },
    {
      "cell_type": "code",
      "source": [
        "str1 = \"ABCDE FGHIJ\"           #total 11 characters. 1 space gap is there.\n",
        "str1[0:5:2]     #Here we specifically mentioned a step of 2 for upto 5th index (which is the <space> but exclusive). So it will return ACE and skip B and D."
      ],
      "metadata": {
        "colab": {
          "base_uri": "https://localhost:8080/",
          "height": 35
        },
        "id": "WHMvvjkf9noz",
        "outputId": "49e8685d-e05d-4734-f840-8c94f787d13d"
      },
      "execution_count": null,
      "outputs": [
        {
          "output_type": "execute_result",
          "data": {
            "text/plain": [
              "'ACE'"
            ],
            "application/vnd.google.colaboratory.intrinsic+json": {
              "type": "string"
            }
          },
          "metadata": {},
          "execution_count": 3
        }
      ]
    },
    {
      "cell_type": "code",
      "source": [
        "str1[::3]       #Here for the full string we given a step of 3, means it will jump over two characters each time after registering one character. Means 'A' then jump over 'BC', 'D' the Jump over 'E ' (Here it is E and a <space>),F and go on till the end."
      ],
      "metadata": {
        "colab": {
          "base_uri": "https://localhost:8080/",
          "height": 35
        },
        "id": "WNUlJOE8-_s3",
        "outputId": "794f96c1-7169-45d6-b55f-9802fac3f33d"
      },
      "execution_count": null,
      "outputs": [
        {
          "output_type": "execute_result",
          "data": {
            "text/plain": [
              "'ADFI'"
            ],
            "application/vnd.google.colaboratory.intrinsic+json": {
              "type": "string"
            }
          },
          "metadata": {},
          "execution_count": 5
        }
      ]
    },
    {
      "cell_type": "markdown",
      "source": [
        "### **2. Explain the key features of lists in Python.** & **3. Describe how to access, modify, and delete elements in a list with example.**\n",
        "\n",
        "\n",
        "A list in python is one of the one of the elementary and widely used data structure. It allows us to store multiple types of data within a single list. And also allows us to access, and manipulate the structure using various techniques. All these feature of a list makes it very versatile to use, especially when we need to work with multiple types of data.\n",
        "\n",
        "\n",
        "---\n",
        "\n",
        "\n",
        "***Features of list***\n",
        "\n",
        "1. Stores data in a Odered Collection\n",
        "> List maintains a order while storing data, which means each element of a list has a specific index and  using those index we can access the specific elements according to our needs. First element of the list has index 0.\n",
        "2. Mutability\n",
        "> One of the most important feature of list is that a list is Mutable, which means in list we can modify, add, remove or update elements after the creation of the list.\n",
        "3. We can sort the elemnts in a list.\n",
        "4. Unlike Sets, List allows repeated values, which might be usefull where multiple user can have same answer\n",
        "5. We can perfom slicing in list data structure, somewhat similar to the data type strings but in list each element has an individual index whereas the data type string each character has a index.\n",
        "6. We can combine or concatenate two lists with the addition operator.\n",
        "7. List supports nested structure, which means we can store multiple lists or tuples inside a list.\n",
        "\n",
        "***Some Built in methods to manipulate a list***\n",
        "> 1. list.append(x)    -- adds an element (x) to the end of the list\n",
        "> 2. list.insert(index, x)   --adds an element (x) to our desired index\n",
        " >3. list.remove(x) -- remove the element (x) from the list\n",
        " > 4. list.sort(key, reverse)   -- sort the list. By default it arranges the list in an ascending order. reverse is an boolean argument, by default it is False.\n",
        " > 5. list.index(x)  -- helps us to know the index of the element (x) in the list\n",
        " > 6. list.pop(index)  -- removes the element of the specified index from the list and returns that element. if we do not specify the index number automatically removes the last element\n",
        " >7. list.count(x)  -- count the number of repeatations of a particular element (x)\n",
        " >8. list.reverse()  -- reverse the list, last elements becomes first\n",
        " > 9. list.clear()  -- clears the list and returns a null list."
      ],
      "metadata": {
        "id": "PDszEpuLcOqr"
      }
    },
    {
      "cell_type": "code",
      "source": [
        "#EXAMPLES\n",
        "\n",
        "list1 = [9, 5.12, \"P\", \"Mango\", 30, True]     #list can store multiple data types\n",
        "list1"
      ],
      "metadata": {
        "id": "05IMyOTocfQy",
        "colab": {
          "base_uri": "https://localhost:8080/"
        },
        "outputId": "1857d151-9348-4b0d-c7c1-51da0754b7e8"
      },
      "execution_count": null,
      "outputs": [
        {
          "output_type": "execute_result",
          "data": {
            "text/plain": [
              "[9, 5.12, 'P', 'Mango', 30, True]"
            ]
          },
          "metadata": {},
          "execution_count": 1
        }
      ]
    },
    {
      "cell_type": "code",
      "source": [
        "first_elmt = list1[0]       #accessing elemnts using index, example of a ordered collection\n",
        "first_elmt"
      ],
      "metadata": {
        "colab": {
          "base_uri": "https://localhost:8080/"
        },
        "id": "0_pgzd1gs_cK",
        "outputId": "a61ae92b-e11f-444b-b0cf-44323a32e5cd"
      },
      "execution_count": null,
      "outputs": [
        {
          "output_type": "execute_result",
          "data": {
            "text/plain": [
              "9"
            ]
          },
          "metadata": {},
          "execution_count": 2
        }
      ]
    },
    {
      "cell_type": "code",
      "source": [
        "fruits = ['Mango', 'Banana', 'Apple']\n",
        "print(\"The original fruit list is: \",fruits)\n",
        "\n",
        "print(\"2nd element of the fruit list is: \",fruits[1])      #Example of ordered collection\n",
        "\n",
        "#modifying the 2nd element from the fruit list\n",
        "fruits[1] = 'Grapes'\n",
        "print(\"The updated fruit list is: \", fruits)   #Example of Mutability"
      ],
      "metadata": {
        "colab": {
          "base_uri": "https://localhost:8080/"
        },
        "id": "6z2e4Wgatl1N",
        "outputId": "3f7fdfd9-9876-4f05-b0b8-02db34da1e91"
      },
      "execution_count": null,
      "outputs": [
        {
          "output_type": "stream",
          "name": "stdout",
          "text": [
            "The original fruit list is:  ['Mango', 'Banana', 'Apple']\n",
            "2nd element of the fruit list is:  Banana\n",
            "The updated fruit list is:  ['Mango', 'Grapes', 'Apple']\n"
          ]
        }
      ]
    },
    {
      "cell_type": "code",
      "source": [
        "players = [\"Sachin\", \"Dhoni\", \"Virat\"]\n",
        "print(\"The original list is: \", players)\n",
        "\n",
        "\n",
        "players.append(\"Rohit\")         #adding  another player at the 4th position\n",
        "print(\"The updated players list: \", players)    #Example of append\n",
        "\n",
        "\n",
        "players.remove(\"Sachin\")      #removing a player from the list\n",
        "print(\"The active players are: \", players)\n"
      ],
      "metadata": {
        "colab": {
          "base_uri": "https://localhost:8080/"
        },
        "id": "IMdEb9mHu1Ob",
        "outputId": "f150c3fb-66c4-4956-a9c5-59a1d543e5ae"
      },
      "execution_count": null,
      "outputs": [
        {
          "output_type": "stream",
          "name": "stdout",
          "text": [
            "The original list is:  ['Sachin', 'Dhoni', 'Virat']\n",
            "The updated players list:  ['Sachin', 'Dhoni', 'Virat', 'Rohit']\n",
            "The active players are:  ['Dhoni', 'Virat', 'Rohit']\n"
          ]
        }
      ]
    },
    {
      "cell_type": "code",
      "source": [
        "fruits.insert(1,\"Banana\")    #insert method helps us to add an element at our desired index position.\n",
        "fruits"
      ],
      "metadata": {
        "colab": {
          "base_uri": "https://localhost:8080/"
        },
        "id": "ylRlie9L0Tii",
        "outputId": "fb552e0f-1fb5-4115-8e6f-f1bb4652feff"
      },
      "execution_count": null,
      "outputs": [
        {
          "output_type": "execute_result",
          "data": {
            "text/plain": [
              "['Mango', 'Banana', 'Banana', 'Grapes', 'Apple']"
            ]
          },
          "metadata": {},
          "execution_count": 43
        }
      ]
    },
    {
      "cell_type": "code",
      "source": [
        "l1 = [1,2,5,3,4,9,10,4,5,5,6,7,8,5,9]       #we have used repeated values\n",
        "print(\"The original list is: \", l1)\n",
        "\n",
        "print(\"The count of 5 in the list is: \", l1.count(5))    #counting the occurances of 5\n",
        "\n",
        "l1.sort()       #sort method helps us to arrange the values in a asceding order by default\n",
        "print(\"By default sorting, that is in an ascending order: \", l1)\n",
        "\n",
        "l1.sort(reverse = True)\n",
        "print(\"Sorting in descending order: \", l1)"
      ],
      "metadata": {
        "colab": {
          "base_uri": "https://localhost:8080/"
        },
        "id": "SE3q-e87159c",
        "outputId": "036c0591-91ad-4a29-fabe-a47ebc1b4c6e"
      },
      "execution_count": null,
      "outputs": [
        {
          "output_type": "stream",
          "name": "stdout",
          "text": [
            "The original list is:  [1, 2, 5, 3, 4, 9, 10, 4, 5, 5, 6, 7, 8, 5, 9]\n",
            "The count of 5 in the list is:  4\n",
            "By default sorting, that is in an ascending order:  [1, 2, 3, 4, 4, 5, 5, 5, 5, 6, 7, 8, 9, 9, 10]\n",
            "Sorting in descending order:  [10, 9, 9, 8, 7, 6, 5, 5, 5, 5, 4, 4, 3, 2, 1]\n"
          ]
        }
      ]
    },
    {
      "cell_type": "code",
      "source": [
        "fruits2 = ['mango', \"apple\", \"blueberry\", \"grapes\", \"watermelon\",'bannana']\n",
        "print(\"The fruit list is: \",fruits2)\n",
        "\n",
        "fruits2.sort()\n",
        "print(\"After sorting the fruit list: \",fruits2)    #by default it will be on the ascending order. means \"a\" will be at first."
      ],
      "metadata": {
        "colab": {
          "base_uri": "https://localhost:8080/"
        },
        "id": "JtgPMQzc33KE",
        "outputId": "88cfb9c4-8ace-46a4-ebe0-8adaa7e3d137"
      },
      "execution_count": null,
      "outputs": [
        {
          "output_type": "stream",
          "name": "stdout",
          "text": [
            "The fruit list is:  ['mango', 'apple', 'blueberry', 'grapes', 'watermelon', 'bannana']\n",
            "After sorting the fruit list:  ['apple', 'bannana', 'blueberry', 'grapes', 'mango', 'watermelon']\n"
          ]
        }
      ]
    },
    {
      "cell_type": "code",
      "source": [
        "# sorting by the length of elements\n",
        "fruits2.sort(key = len, reverse = False)\n",
        "print(\"Sorting by length of each elements: \", fruits2)"
      ],
      "metadata": {
        "colab": {
          "base_uri": "https://localhost:8080/"
        },
        "id": "ldKopPvY6aiG",
        "outputId": "5379df84-5343-4ba5-a66d-3c41d12bab1f"
      },
      "execution_count": null,
      "outputs": [
        {
          "output_type": "stream",
          "name": "stdout",
          "text": [
            "Sorting by length of each elements:  ['apple', 'mango', 'grapes', 'bannana', 'blueberry', 'watermelon']\n"
          ]
        }
      ]
    },
    {
      "cell_type": "code",
      "source": [
        "l3 = [-5,3,2,7,8,9.05,-10,0,6,-7]\n",
        "print(\"The original list is: \", l3)\n",
        "\n",
        "l3.sort()\n",
        "print(\"Sorting in ascending order, by default: \", l3)\n",
        "\n",
        "l3.sort(reverse = True)\n",
        "print(\"Sorting in descending order, using reverse argument: \", l3)\n",
        "\n",
        "l3.sort(key = abs)\n",
        "print(\"Sorting by absolute value: \", l3)\n",
        "\n",
        "l3.sort(key = abs, reverse = True)      #using both arguments\n",
        "print(\"Sorting by absolute value in descending order: \", l3)"
      ],
      "metadata": {
        "colab": {
          "base_uri": "https://localhost:8080/"
        },
        "id": "8O1sR_X96xwx",
        "outputId": "8fcc0046-d3a5-4d7c-d129-60ea167e9e04"
      },
      "execution_count": null,
      "outputs": [
        {
          "output_type": "stream",
          "name": "stdout",
          "text": [
            "The original list is:  [-5, 3, 2, 7, 8, 9.05, -10, 0, 6, -7]\n",
            "Sorting in ascending order, by default:  [-10, -7, -5, 0, 2, 3, 6, 7, 8, 9.05]\n",
            "Sorting in descending order, using reverse argument:  [9.05, 8, 7, 6, 3, 2, 0, -5, -7, -10]\n",
            "Sorting by absolute value:  [0, 2, 3, -5, 6, 7, -7, 8, 9.05, -10]\n",
            "Sorting by absolute value in descending order:  [-10, 9.05, 8, 7, -7, 6, -5, 3, 2, 0]\n"
          ]
        }
      ]
    },
    {
      "cell_type": "code",
      "source": [
        "#slicing example\n",
        "\n",
        "l4 = [1,2,3,4,5,6,7,8,9]\n",
        "print(\"The original created list: \", l4)\n",
        "\n",
        "print(\"List of the first five elements: \", l4[:5])     #upto the 5th element, index = 5 means the 6th element but the end is exclusive, printing upto 5\n",
        "\n",
        "print(\"List of last five elements: \", l4[-5:])      #using the negative index, from 5 to 9\n",
        "\n",
        "print(\"List of 2nd element to the 2nd last element: \", l4[1:-1])        #that is 2 to 8.\n",
        "\n",
        "print(\"List of 2nd element to the 2nd last element with a step of 3: \", l4[1:-1:3])\n",
        "\n"
      ],
      "metadata": {
        "colab": {
          "base_uri": "https://localhost:8080/"
        },
        "id": "Y4wnrCs17gDg",
        "outputId": "d7d45043-229d-4476-abe1-d56fd4cfa66f"
      },
      "execution_count": null,
      "outputs": [
        {
          "output_type": "stream",
          "name": "stdout",
          "text": [
            "The original created list:  [1, 2, 3, 4, 5, 6, 7, 8, 9]\n",
            "List of the first five elements:  [1, 2, 3, 4, 5]\n",
            "List of last five elements:  [5, 6, 7, 8, 9]\n",
            "List of 2nd element to the 2nd last element:  [2, 3, 4, 5, 6, 7, 8]\n",
            "List of 2nd element to the 2nd last element with a step of 3:  [2, 5, 8]\n"
          ]
        }
      ]
    },
    {
      "cell_type": "code",
      "source": [
        "l5 = [1,5,9,4,3,8,6,7]\n",
        "print(\"The original list is: \", l5)\n",
        "\n",
        "l5.reverse()\n",
        "print(\"The reversed list is: \", l5)         #using the reverse method"
      ],
      "metadata": {
        "colab": {
          "base_uri": "https://localhost:8080/"
        },
        "id": "rJcHqifsCQpw",
        "outputId": "3416d5f9-740a-4c56-b382-2085c48304c0"
      },
      "execution_count": null,
      "outputs": [
        {
          "output_type": "stream",
          "name": "stdout",
          "text": [
            "The original list is:  [1, 5, 9, 4, 3, 8, 6, 7]\n",
            "The reversed list is:  [7, 6, 8, 3, 4, 9, 5, 1]\n"
          ]
        }
      ]
    },
    {
      "cell_type": "code",
      "source": [
        "l6 = [1,2,3,4]\n",
        "print(\"the index of 3 is: \", l6.index(3))       #using the index method to know the index of a certain element\n",
        "\n",
        "print(\"removing the 3rd element and the remoed element is: \", l6.pop(2))            #using the pop method"
      ],
      "metadata": {
        "colab": {
          "base_uri": "https://localhost:8080/"
        },
        "id": "ed9KX1fXCrng",
        "outputId": "1c389cb3-75ac-492d-9ab6-f0f8c369f851"
      },
      "execution_count": null,
      "outputs": [
        {
          "output_type": "stream",
          "name": "stdout",
          "text": [
            "the index of 3 is:  2\n",
            "removing the 3rd element and the remoed element is:  3\n"
          ]
        }
      ]
    },
    {
      "cell_type": "code",
      "source": [
        "# COMBINATION OR CONCATENATION OF TWO LISTS\n",
        "l7 = [1, 2, 3, 4, \"a\"]\n",
        "l8 = [4, 5, 6, 7, 8, \"b\"]\n",
        "\n",
        "l7 + l8"
      ],
      "metadata": {
        "colab": {
          "base_uri": "https://localhost:8080/"
        },
        "id": "xs88l2pDRn84",
        "outputId": "7f8bee7a-839a-43a6-da87-5a0fda2e0020"
      },
      "execution_count": null,
      "outputs": [
        {
          "output_type": "execute_result",
          "data": {
            "text/plain": [
              "[1, 2, 3, 4, 'a', 4, 5, 6, 7, 8, 'b']"
            ]
          },
          "metadata": {},
          "execution_count": 12
        }
      ]
    },
    {
      "cell_type": "code",
      "source": [
        "l6.clear()      #clearing the list\n",
        "l6          #returns a null list"
      ],
      "metadata": {
        "id": "N2azRdKLcrz_",
        "colab": {
          "base_uri": "https://localhost:8080/"
        },
        "outputId": "5dfd0f0f-0d98-4907-e799-56e7df5db8f7"
      },
      "execution_count": null,
      "outputs": [
        {
          "output_type": "execute_result",
          "data": {
            "text/plain": [
              "[]"
            ]
          },
          "metadata": {},
          "execution_count": 87
        }
      ]
    },
    {
      "cell_type": "markdown",
      "source": [
        "### **4. Compare and contrast tuples and lists with examples.**\n",
        "In python both Tuples and list are used to store data especially when we need to store multiple types of data within a single structure. Though Tuples and List has some similarities but there are some key differences as well.\n",
        "\n",
        "***Differences between List and Tuples***\n",
        "\n",
        "1. The key difference between a Tuple and a List is **Mutability**. A Tuple is NOT mutable, which means once created a Tuple can't be modified. Whereas, List is Mutable.\n",
        "2. And one elementary difference is in terms of their syntax. We create tuple using a parentheses (), and to create list we use square brackets [].\n",
        "3. Tuples are usefull when we have a fixed data, like coordinates (x,y) of a place which won't change. On the other side we will want a list when data needs frequent updates or modifications, like our shopping wishlist.\n",
        "\n",
        "\n",
        "***Few Similarities between List and Tuple***\n",
        "\n",
        "1. Both stores data in an Ordered collection form which means each element will have a specific index.\n",
        "2. Both supports multiple data types to be stored in one variable. And both supports nested structure as well which means we can store multiple tuples or list inside a tuple.\n",
        "3. Both allows element repetitions.\n",
        "4. Similar to Lists we can combine or concatenate two Tuples too, with the addition operator."
      ],
      "metadata": {
        "id": "9Y0AS0lpcsKb"
      }
    },
    {
      "cell_type": "code",
      "source": [
        "#EXAMPLES OF DIFFERENCES\n",
        "\n",
        "t1 = (1, 2, 3.4, 9.12, 5.01, \"P\")    #supports multiple data types\n",
        "print(\"The created tuple: \", t1)\n",
        "\n",
        "print(\"\\nAccessing the 3rd element from the tuple: \", t1[2])      #by indexing we can access an element in a tuple\n",
        "\n",
        "t1[2] = 10     #will give an error, saying tuple doesn't support item assignment, which means tuple is IMMUTABLE"
      ],
      "metadata": {
        "colab": {
          "base_uri": "https://localhost:8080/",
          "height": 211
        },
        "id": "iMwc2wRtI0zW",
        "outputId": "624079b7-0031-4045-8681-1ea65f896ce3"
      },
      "execution_count": null,
      "outputs": [
        {
          "output_type": "stream",
          "name": "stdout",
          "text": [
            "The created tuple:  (1, 2, 3.4, 9.12, 5.01, 'P')\n",
            "Accessing the 3rd element from the tuple:  3.4\n"
          ]
        },
        {
          "output_type": "error",
          "ename": "TypeError",
          "evalue": "'tuple' object does not support item assignment",
          "traceback": [
            "\u001b[0;31m---------------------------------------------------------------------------\u001b[0m",
            "\u001b[0;31mTypeError\u001b[0m                                 Traceback (most recent call last)",
            "\u001b[0;32m<ipython-input-4-82f14974eb48>\u001b[0m in \u001b[0;36m<cell line: 8>\u001b[0;34m()\u001b[0m\n\u001b[1;32m      6\u001b[0m \u001b[0mprint\u001b[0m\u001b[0;34m(\u001b[0m\u001b[0;34m\"Accessing the 3rd element from the tuple: \"\u001b[0m\u001b[0;34m,\u001b[0m \u001b[0mt1\u001b[0m\u001b[0;34m[\u001b[0m\u001b[0;36m2\u001b[0m\u001b[0;34m]\u001b[0m\u001b[0;34m)\u001b[0m      \u001b[0;31m#by indexing we can access an element in a tuple\u001b[0m\u001b[0;34m\u001b[0m\u001b[0;34m\u001b[0m\u001b[0m\n\u001b[1;32m      7\u001b[0m \u001b[0;34m\u001b[0m\u001b[0m\n\u001b[0;32m----> 8\u001b[0;31m \u001b[0mt1\u001b[0m\u001b[0;34m[\u001b[0m\u001b[0;36m2\u001b[0m\u001b[0;34m]\u001b[0m \u001b[0;34m=\u001b[0m \u001b[0;36m10\u001b[0m     \u001b[0;31m#will give an error, saying tuple doesn't support item assignment, which means tuple is IMMUTABLE\u001b[0m\u001b[0;34m\u001b[0m\u001b[0;34m\u001b[0m\u001b[0m\n\u001b[0m",
            "\u001b[0;31mTypeError\u001b[0m: 'tuple' object does not support item assignment"
          ]
        }
      ]
    },
    {
      "cell_type": "code",
      "source": [
        "nested_t = ( (1,2), (3,4), (5,6), [1,2,3,4] )   #store multiple tupes and list inside a tuple\n",
        "print(\"Example of tuple supports nested structure: \", nested_t)"
      ],
      "metadata": {
        "id": "B4-vpH9yc3n-",
        "colab": {
          "base_uri": "https://localhost:8080/"
        },
        "outputId": "7ea2a83a-6149-4925-dada-6be3b97e7fb1"
      },
      "execution_count": null,
      "outputs": [
        {
          "output_type": "stream",
          "name": "stdout",
          "text": [
            "Example of tuple supports nested structure:  ((1, 2), (3, 4), (5, 6), [1, 2, 3, 4])\n"
          ]
        }
      ]
    },
    {
      "cell_type": "code",
      "source": [
        "t2 = (1,4,9,9,5)        #allows repetitons\n",
        "\n",
        "print(f\"The combined tuple of t1 and t2 is: {t1 + t2}\")     #We can combine two tuples\n",
        "\n",
        "print(f\"\\nThe count of 9 in the tuple is: { t2.count(9)}\")        #we can use count method to know the frequency of an element\n",
        "print(f\"\\nThe index of 5 in the tuple is: { t2.index(5)}\")        #we can use index method to know the index of an element\n",
        "\n",
        "#BUT UNLIKE LISTS WE DON'T HAVE THE OTHER METHODS LIKE append(), remove(), insert(), as tuple is immutable"
      ],
      "metadata": {
        "colab": {
          "base_uri": "https://localhost:8080/"
        },
        "id": "EoutTO01Uk1P",
        "outputId": "b731693e-13c9-4ffa-c1ec-fb717fd17771"
      },
      "execution_count": null,
      "outputs": [
        {
          "output_type": "stream",
          "name": "stdout",
          "text": [
            "The combined tuple of t1 and t2 is: (1, 2, 3.4, 9.12, 5.01, 'P', 1, 4, 9, 9, 5)\n",
            "The count of 9 in the tuple is: 2\n",
            "The index of 5 in the tuple is: 4\n"
          ]
        }
      ]
    },
    {
      "cell_type": "markdown",
      "source": [
        "### 5. **Describe the key features of sets and provide examples of their use.**\n",
        "\n",
        "Set is an **Unordered** collection of **Unique** elements. This data structure becomes very useful when we don't want any duplicate elements or don't want any repeated value to be added. In sets we can perform many mathematical set operations like union, intersectioins and differences.\n",
        "\n",
        "And another key feature of Set is Mutability. A set is **Mutable** so we can add, remove an element from a set."
      ],
      "metadata": {
        "id": "ORYsUWO2c3-q"
      }
    },
    {
      "cell_type": "code",
      "source": [
        "my_set = {4, 5, 9, 1, 3, 10, 9, 5, 7, 7, 7}\n",
        "my_set      #set automatically removes the duplicates and doesn't maintain the order of the elements according to the input that's why set is an unordered collection of unique elements."
      ],
      "metadata": {
        "id": "9JxZk9m3dYp_",
        "colab": {
          "base_uri": "https://localhost:8080/"
        },
        "outputId": "9552baca-2bbb-4de0-c0cd-acbba3220673"
      },
      "execution_count": null,
      "outputs": [
        {
          "output_type": "execute_result",
          "data": {
            "text/plain": [
              "{1, 3, 4, 5, 7, 9, 10}"
            ]
          },
          "metadata": {},
          "execution_count": 22
        }
      ]
    },
    {
      "cell_type": "code",
      "source": [
        "my_set.add(100)     #adding another number to our set\n",
        "print(\"\\nThe updated set is: \", my_set)       #MUTABILITY"
      ],
      "metadata": {
        "colab": {
          "base_uri": "https://localhost:8080/"
        },
        "id": "2O7I_2yR3Nb-",
        "outputId": "57a101eb-4adb-4c9b-a39f-a27e71ada669"
      },
      "execution_count": null,
      "outputs": [
        {
          "output_type": "stream",
          "name": "stdout",
          "text": [
            "The updated set is:  {1, 3, 4, 5, 100, 7, 9, 10}\n"
          ]
        }
      ]
    },
    {
      "cell_type": "code",
      "source": [
        "set1 = {\"mango\", \"apple\", \"watermelon\"}\n",
        "set2 = {\"bannana\", \"apple\", \"grapes\", \"Lichi\"}\n",
        "set3 = {\"pineapple\", \"m2\", \"a2\"}\n",
        "print(\"The union of set1 and set2 is: \", set1.union(set2, set3))          #UNION METHOD CREATES ANOTHER UNIQUE SET COMBINING ALL THE SETs\n",
        "\n",
        "print(\"\\nThe intersection of set1 and set2 is: \", set1.intersection(set2))    # INTERSECTION TO FIND THE COMMON ELEMENT"
      ],
      "metadata": {
        "colab": {
          "base_uri": "https://localhost:8080/"
        },
        "id": "K6uNzrT935dD",
        "outputId": "bb429fd3-30a4-4ccb-98f8-6d474953c3f3"
      },
      "execution_count": null,
      "outputs": [
        {
          "output_type": "stream",
          "name": "stdout",
          "text": [
            "The union of set1 and set2 is:  {'watermelon', 'm2', 'pineapple', 'grapes', 'apple', 'Lichi', 'a2', 'mango', 'bannana'}\n",
            "The intersection of set1 and set2 is:  {'apple'}\n"
          ]
        }
      ]
    },
    {
      "cell_type": "code",
      "source": [
        "# SUPPOSE WE MADE A LONG SHOPPING LIST AND WE AREN'T SURE IF WE'VE ADDED ANY ITEM MULTIPLE TIMES. THEN A SET BECOMES USEFUL\n",
        "\n",
        "my_shopping_list = [\"a\", \"b\", \"c\", \"d\", \"e\", \"a\", \"a\", \"b\", \"a\", \"e\"]\n",
        "print(\"\\nThe original list is: \", my_shopping_list)\n",
        "\n",
        "set4 = set(my_shopping_list)        #CONVERTING THE LIST TO A SET. REMOVES THE DUPLICATES\n",
        "print(\"\\nThe unique element of the list is: \", set4)\n",
        "\n",
        "set5 = {\"a\", 2, 3}          #CREATING A NEW SET. ALSO THE EXAMPLE SHOWING SET CAN ALSO STORE MULTIPLE DATA TYPES\n",
        "\n",
        "set5.update(my_shopping_list)           # update() METHOD WORKS SIMILAR TO union() METHOD. BUT UPDATE METHOD MODIFIES THE ORIGINAL SET, WHEREAS UNION METHOD CREATES A NEW SET. BOTH CAN TAKE ANY ITERABLE OBJECT AS ARGUMENT.\n",
        "print(\"\\nThe updated set is: \", set5)"
      ],
      "metadata": {
        "colab": {
          "base_uri": "https://localhost:8080/"
        },
        "id": "l_N4SHHc53mZ",
        "outputId": "d9b0ef8c-a0db-4a65-e0f3-388919ae6a33"
      },
      "execution_count": null,
      "outputs": [
        {
          "output_type": "stream",
          "name": "stdout",
          "text": [
            "The original list is:  ['a', 'b', 'c', 'd', 'e', 'a', 'a', 'b', 'a', 'e']\n",
            "The unique element of the list is:  {'e', 'c', 'a', 'b', 'd'}\n",
            "The updated set is:  {'e', 2, 3, 'c', 'a', 'b', 'd'}\n"
          ]
        }
      ]
    },
    {
      "cell_type": "code",
      "source": [
        "#CREATING AN EMPTY SET\n",
        "set6 = set()\n",
        "\n",
        "for i in range(1, 11):              #iterating for 10 times\n",
        "    j = int(input(\"What's your fav jersey no.: \"))          #collecting  fav jersey no.s from 10 individuals\n",
        "    set6.add(j)             #adding those jersey no.s into our empty set\n",
        "print(f\"\\nThe set of fav jersey no.s are: {set6}\")"
      ],
      "metadata": {
        "colab": {
          "base_uri": "https://localhost:8080/"
        },
        "id": "Q4RyLtor-RBx",
        "outputId": "5eef49c6-16f6-4955-8c3e-5e8adf3a113f"
      },
      "execution_count": null,
      "outputs": [
        {
          "output_type": "stream",
          "name": "stdout",
          "text": [
            "What's your fav jersey no.: 9\n",
            "What's your fav jersey no.: 10\n",
            "What's your fav jersey no.: 7\n",
            "What's your fav jersey no.: 18\n",
            "What's your fav jersey no.: 45\n",
            "What's your fav jersey no.: 45\n",
            "What's your fav jersey no.: 18\n",
            "What's your fav jersey no.: 7\n",
            "What's your fav jersey no.: 18\n",
            "What's your fav jersey no.: 10\n",
            "\n",
            "The set of fav jersey no.s are: {7, 9, 10, 45, 18}\n"
          ]
        }
      ]
    },
    {
      "cell_type": "code",
      "source": [
        "set7 = {1,2,3,4,5,6,7,8,9,10}\n",
        "\n",
        "print(f\"Difference operation between {set6} and {set7} is: {set6 - set7}\\n\")     #Difference operation\n",
        "print(f\"Intersection operation between {set6} and {set7} is: {set6 & set7}\\n\")     #Intersection operation. 2nd method\n",
        "print(f\"Union operation between {set6} and {set7} is: {set6 | set7 }\\n\")    #Union operation. 2nd method"
      ],
      "metadata": {
        "colab": {
          "base_uri": "https://localhost:8080/"
        },
        "id": "fdEtlu8cBqyu",
        "outputId": "67acc94c-69cf-4334-b7e3-9243b68945f3"
      },
      "execution_count": null,
      "outputs": [
        {
          "output_type": "stream",
          "name": "stdout",
          "text": [
            "Difference operation between {7, 9, 10, 45, 18} and {1, 2, 3, 4, 5, 6, 7, 8, 9, 10} is: {18, 45}\n",
            "\n",
            "Intersection operation between {7, 9, 10, 45, 18} and {1, 2, 3, 4, 5, 6, 7, 8, 9, 10} is: {9, 10, 7}\n",
            "\n",
            "Union operation between {7, 9, 10, 45, 18} and {1, 2, 3, 4, 5, 6, 7, 8, 9, 10} is: {1, 2, 3, 4, 5, 6, 7, 8, 9, 10, 45, 18}\n",
            "\n"
          ]
        }
      ]
    },
    {
      "cell_type": "markdown",
      "source": [
        "### **6. Discuss the use cases of tuples and sets in Python programming.**\n",
        "\n",
        "The key difference between a set and a tuple is a Tuple stores ordered data(means each element has a specific index and that's accessible) and it's fixed means Immutabe.\n",
        "\n",
        "whereas, a sets are consist of unique and unordered data. These differences makes the usecases different."
      ],
      "metadata": {
        "id": "P3NLxIMSdZLK"
      }
    },
    {
      "cell_type": "code",
      "source": [
        "#storing name and userid using a tuple. For sensitive info a tuple is useful\n",
        "\n",
        "details = (\"pritam\", 1234, \"Indian\")      #let pritam is the username and 1234 is a unique id. which won't change\n",
        "\n",
        "#unpacking the details\n",
        "correct_username,  correct_id, correct_nationality = details        #as the tuple is a ordered collection.\n",
        "\n",
        "#while login\n",
        "user = input(\"Username -  \\n\")\n",
        "id = int(input(\"Your ID- \"))\n",
        "nationality = input(\"Your Nationality-  \")\n",
        "\n",
        "#verifying the credentials\n",
        "if user.lower() == correct_username.lower() and id == correct_id and nationality.upper() == correct_nationality.upper():\n",
        "    print(\"\\nLogin Successful\")\n",
        "else:\n",
        "    print(\"\\nWrong credentials!!!!! Login Failed\")\n",
        "\n",
        "#HERE A TUPLE WILL BE CONSIDERED OVER A SET OR LIST BECAUSE A SIGN UP DETAILS LIKE USER NAME AND ID SHOULDN'T BE CHANGED"
      ],
      "metadata": {
        "id": "HD_ww9NhdjRn",
        "colab": {
          "base_uri": "https://localhost:8080/"
        },
        "outputId": "fbf6797a-7210-492d-8dfd-06270e6e5a33"
      },
      "execution_count": null,
      "outputs": [
        {
          "output_type": "stream",
          "name": "stdout",
          "text": [
            "Username -  \n",
            "PriTam\n",
            "Your ID- 1234\n",
            "Your Nationality-  indian\n",
            "\n",
            "Login Successful\n"
          ]
        }
      ]
    },
    {
      "cell_type": "code",
      "source": [
        "# Sets are best suited for the cases where we need to have a unique collection which need further updates\n",
        "# suppose we stores all the emails from our website signup's\n",
        "\n",
        "emails = [\"abc@gmail.com\",\"ade@jio.com\", \"xyz@pwskills.com\",\"def@yahoo.com\",\"p9@outlook.com\",\"pg5@gmail.com\",\n",
        "                    \"abcd@yahoo.com\", \"rbds@pwskills.com\" ]     #list of email address\n",
        "\n",
        "# now we want to know all the unique domains that has been used\n",
        "domains = set()        #creating a null set\n",
        "\n",
        "for email in emails:            #emails is a list. which is iterable. we are iterating through each email of the list.\n",
        "    email.split(\"@\")            #using this method we split all the emails at \"@\" this point and extract the 2nd part.\n",
        "    domains.add(email.split(\"@\")[1])        #adding the extracted domains to our set one by one using the add method\n",
        "print(f\"\\nAll the unique domains registered: {domains}\")"
      ],
      "metadata": {
        "colab": {
          "base_uri": "https://localhost:8080/"
        },
        "id": "LTe2B5AbTNTF",
        "outputId": "4cc2dfb0-6c3b-400b-b389-2660c0a199c3"
      },
      "execution_count": null,
      "outputs": [
        {
          "output_type": "stream",
          "name": "stdout",
          "text": [
            "\n",
            "All the unique domains registered: {'jio.com', 'outlook.com', 'gmail.com', 'pwskills.com', 'yahoo.com'}\n"
          ]
        }
      ]
    },
    {
      "cell_type": "markdown",
      "source": [
        "### **7. Describe how to add, modify, and delete items in a dictionary with example**\n",
        "\n",
        "A dictionary in python is a **Mutable** data structures which stores data in a pair format. We specify key and value for each element to create a dictionary. {key : value}\n",
        "\n",
        "Since the dictionary as a data structure is Mutable so we can add, modify and delete items(pairs) but the key in a dictionary is immutable which means we can't change or modify the originally created keys."
      ],
      "metadata": {
        "id": "TJIfsdF3djoj"
      }
    },
    {
      "cell_type": "code",
      "source": [
        "# ADDING ITEMS TO A DICTIONARY\n",
        "\n",
        "my_data = {\n",
        "    \"name\" : \"Pritam\",\n",
        "    \"age\" : 20,\n",
        "    \"country\" : \"India\"\n",
        "}\n",
        "\n",
        "print(f\"\\nThe initially created dictionary-  {my_data}\")\n",
        "\n",
        "my_data[\"name\"]         #accessing the value of the name key\n",
        "\n",
        "my_data[\"Github\"] = \"pritam-stats\"    #one method to add new key-value pair. where \"Github\" is the key and \"pritam\" is the value. Using Assignment operator\n",
        "\n",
        "print(f\"\\nThe dictionary after adding a new key-value pair: {my_data}\")\n",
        "\n",
        "new_dict = {\"Linkedin\" : \"pritam09\",                                                #created another dictionary to add\n",
        "            \"Email\" : \"co***@gmail.com\"}\n",
        "\n",
        "my_data.update(new_dict)            #using update method to add new pairs to our dictionary\n",
        "\n",
        "print(f\"\\nAfter adding another dictionary to the initial dictionary- {my_data}\")\n"
      ],
      "metadata": {
        "id": "MC_9seGbd7RA",
        "colab": {
          "base_uri": "https://localhost:8080/"
        },
        "outputId": "1eb270f5-8f21-4a4e-bc9f-8ed98291c164"
      },
      "execution_count": null,
      "outputs": [
        {
          "output_type": "stream",
          "name": "stdout",
          "text": [
            "\n",
            "The initially created dictionary-  {'name': 'Pritam', 'age': 20, 'country': 'India'}\n",
            "\n",
            "The dictionary after adding a new key-value pair: {'name': 'Pritam', 'age': 20, 'country': 'India', 'Github': 'pritam-stats'}\n",
            "\n",
            "After adding another dictionary to the initial dictionary- {'name': 'Pritam', 'age': 20, 'country': 'India', 'Github': 'pritam-stats', 'Linkedin': 'pritam09', 'Email': 'co***@gmail.com'}\n"
          ]
        }
      ]
    },
    {
      "cell_type": "code",
      "source": [
        "#SIMILARLY USING THE SAME METHODS WE CAN MODIFY THE DICTIONARY, KEEPING THE KEY  UNCHANGED\n",
        "\n",
        "print(f\"Before modificatoin- {my_data}\")\n",
        "\n",
        "my_data[\"age\"] = 21             #Modifying the age using the assignment operator\n",
        "\n",
        "print(f\"\\nAfter modification- {my_data}\")\n",
        "\n",
        "my_data.update({\"Email\": \"abc**@outlook.com\",       #modifying using the update() method\n",
        "                \"Github\": \"pr****\"})\n",
        "\n",
        "print(f\"\\nAfter modification with 2nd method- {my_data}\")"
      ],
      "metadata": {
        "colab": {
          "base_uri": "https://localhost:8080/"
        },
        "id": "HFIuNv8v6Vlu",
        "outputId": "ec83d7a7-fdc5-4950-962d-f4db8185a7d7"
      },
      "execution_count": null,
      "outputs": [
        {
          "output_type": "stream",
          "name": "stdout",
          "text": [
            "Before modificatoin- {'name': 'Pritam', 'age': 20, 'country': 'India', 'Github': 'pritam-stats', 'Linkedin': 'pritam09', 'Email': 'co***@gmail.com'}\n",
            "\n",
            "After modification- {'name': 'Pritam', 'age': 21, 'country': 'India', 'Github': 'pritam-stats', 'Linkedin': 'pritam09', 'Email': 'co***@gmail.com'}\n",
            "\n",
            "After modification- {'name': 'Pritam', 'age': 21, 'country': 'India', 'Github': 'pr****', 'Linkedin': 'pritam09', 'Email': 'abc**@outlook.com'}\n"
          ]
        }
      ]
    },
    {
      "cell_type": "code",
      "source": [
        "#DELETING ELEMENTS FROM DICTIONARY\n",
        "player_jersey = {\"Dhoni\": 7,\n",
        "           \"Virat\": 18,\n",
        "           10: \"Sachin\",\n",
        "           45: \"Rohit\"\n",
        "           }         #for the 3rd and 4th element 10 and 45 is the key\n",
        "\n",
        "print(\"\\nThe originally created dictionary- \", player_jersey)\n",
        "\n",
        "#Deleting a specific pair\n",
        "del player_jersey[45]           #using the del statement by mentioning the key\n",
        "\n",
        "print(f\"\\nAfter deleting the last element- {player_jersey}\")\n",
        "\n",
        "\n",
        "#using popitem() method. which by default deletes the last pair and returns the pair as a tuple and we can unpack the tuple\n",
        "deleted_pair = player_jersey.popitem()\n",
        "key, value = deleted_pair\n",
        "\n",
        "print(f\"\\nUsing the popitem() method- {player_jersey} AND, \\nThe deleted pair is: {deleted_pair}\")\n",
        "print(f\"\\n The key: {key} and the value: {value}\")\n",
        "\n",
        "\n",
        "#Using pop() method. Which deletes the specific pair according to the mentioned key and returns only the value of the pair\n",
        "deleted_value = player_jersey.pop(\"Virat\")\n",
        "print(f\"Using the pop() method- {player_jersey} AND, \\nThe value of the deleted pair is: {deleted_value}\")\n",
        "\n",
        "#By using the clear() method we can delete all items of a dictionary at once and the dictoinary becomes a null dictionary\n",
        "player_jersey.clear()\n",
        "print(f\"\\nAfter using the clear() method- {player_jersey}\")       #returns a null dictionary\n"
      ],
      "metadata": {
        "colab": {
          "base_uri": "https://localhost:8080/"
        },
        "id": "_siaG4S--GE6",
        "outputId": "e5752cfd-c1e8-471c-fba5-a6e3d438eb65"
      },
      "execution_count": null,
      "outputs": [
        {
          "output_type": "stream",
          "name": "stdout",
          "text": [
            "\n",
            "The originally created dictionary-  {'Dhoni': 7, 'Virat': 18, 10: 'Sachin', 45: 'Rohit'}\n",
            "\n",
            "After deleting the last element- {'Dhoni': 7, 'Virat': 18, 10: 'Sachin'}\n",
            "\n",
            "Using the popitem() method- {'Dhoni': 7, 'Virat': 18} AND, \n",
            "The deleted pair is: (10, 'Sachin')\n",
            "\n",
            " The key: 10 and the value: Sachin\n",
            "Using the pop() method- {'Dhoni': 7} AND, \n",
            "The value of the deleted pair is: 18\n",
            "\n",
            "After using the clear() method- {}\n"
          ]
        }
      ]
    },
    {
      "cell_type": "markdown",
      "source": [
        "### **8. Discuss the importance of dictionary keys being immutable and provide examples.**\n",
        "\n",
        "\n",
        "One of the most important requirement to create a valid dictionary is the keys of the dictionary has to be immutable or something called hashable.\n",
        "\n",
        "In python dictionaries are functions as a hash tables. Hash tables are also a type of data structure. When a pair added in the dictionary  python automatically generates an unique numeric value or index via a hash function for the key. Which helps to locate the key and access the value quicker.\n",
        "\n",
        "Now if we think keys as immutable and we change the key then the hash won't remain unique or constant then python won't be able to locate the correct key and we can't get the value.\n",
        "\n",
        "For instance, We, the people of India, can be identified by our unique AADHAAR no, it can be example of a key.\n",
        "\n",
        "That's why for a valid dictionary the key has to be IMMutable object like string, numbers, tuples.\n",
        "\n",
        "\n"
      ],
      "metadata": {
        "id": "3tbcNLh4d72O"
      }
    },
    {
      "cell_type": "code",
      "source": [
        "#EXAMPLES- Trying to  give an mutable object as key\n",
        "\n",
        "d1 = {\n",
        "    [1,2,3] : \"abd\"     #will give an TypeError saying unhashable type object\n",
        "}\n",
        "d1\n",
        "\n",
        "#similar error will show up if we try with any other mutable objects."
      ],
      "metadata": {
        "id": "kiO9k_AheGke",
        "colab": {
          "base_uri": "https://localhost:8080/",
          "height": 211
        },
        "outputId": "ac1f38f3-2a53-406e-a32a-8d4ddc5670c2"
      },
      "execution_count": null,
      "outputs": [
        {
          "output_type": "error",
          "ename": "TypeError",
          "evalue": "unhashable type: 'list'",
          "traceback": [
            "\u001b[0;31m---------------------------------------------------------------------------\u001b[0m",
            "\u001b[0;31mTypeError\u001b[0m                                 Traceback (most recent call last)",
            "\u001b[0;32m<ipython-input-27-42d7e9cfb1d3>\u001b[0m in \u001b[0;36m<cell line: 4>\u001b[0;34m()\u001b[0m\n\u001b[1;32m      1\u001b[0m \u001b[0;31m#EXAMPLES- Trying to  give an mutable object as key\u001b[0m\u001b[0;34m\u001b[0m\u001b[0;34m\u001b[0m\u001b[0m\n\u001b[1;32m      2\u001b[0m \u001b[0;34m\u001b[0m\u001b[0m\n\u001b[0;32m----> 3\u001b[0;31m d1 = {\n\u001b[0m\u001b[1;32m      4\u001b[0m     \u001b[0;34m[\u001b[0m\u001b[0;36m1\u001b[0m\u001b[0;34m,\u001b[0m\u001b[0;36m2\u001b[0m\u001b[0;34m,\u001b[0m\u001b[0;36m3\u001b[0m\u001b[0;34m]\u001b[0m \u001b[0;34m:\u001b[0m \u001b[0;34m\"abd\"\u001b[0m     \u001b[0;31m#\u001b[0m\u001b[0;34m\u001b[0m\u001b[0;34m\u001b[0m\u001b[0m\n\u001b[1;32m      5\u001b[0m }\n",
            "\u001b[0;31mTypeError\u001b[0m: unhashable type: 'list'"
          ]
        }
      ]
    },
    {
      "cell_type": "code",
      "source": [
        "# Example of a valid key of a dictionary\n",
        "d2 = {\n",
        "    (0, 1): \"Coordinate of point A\",         #this is a valid dictionary. Tuple is immutable\n",
        "    (9,5) : \"Coordinate of point B\"         #let say the coordinates are fixed\n",
        "}\n",
        "\n",
        "d2\n"
      ],
      "metadata": {
        "colab": {
          "base_uri": "https://localhost:8080/"
        },
        "id": "QY1F7RxRWw1w",
        "outputId": "1296b7df-e3fe-4c63-8c5c-bd309b0f101a"
      },
      "execution_count": 30,
      "outputs": [
        {
          "output_type": "execute_result",
          "data": {
            "text/plain": [
              "{(0, 1): 'Coordinate of point A', (9, 5): 'Coordinate of point B'}"
            ]
          },
          "metadata": {},
          "execution_count": 30
        }
      ]
    }
  ]
}